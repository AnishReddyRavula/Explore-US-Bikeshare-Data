{
 "cells": [
  {
   "cell_type": "markdown",
   "metadata": {},
   "source": [
    "# 2016 US Bike Share Activity Snapshot\n",
    "\n",
    "## Table of Contents\n",
    "- [Introduction](#intro)\n",
    "- [Posing Questions](#pose_questions)\n",
    "- [Data Collection and Wrangling](#wrangling)\n",
    "  - [Condensing the Trip Data](#condensing)\n",
    "- [Exploratory Data Analysis](#eda)\n",
    "  - [Statistics](#statistics)\n",
    "  - [Visualizations](#visualizations)\n",
    "- [Performing Your Own Analysis](#eda_continued)\n",
    "- [Conclusions](#conclusions)\n",
    "\n",
    "<a id='intro'></a>\n",
    "## Introduction\n",
    "\n",
    "> **Tip**: Quoted sections like this will provide helpful instructions on how to navigate and use a Jupyter notebook.\n",
    "\n",
    "Over the past decade, bicycle-sharing systems have been growing in number and popularity in cities across the world. Bicycle-sharing systems allow users to rent bicycles for short trips, typically 30 minutes or less. Thanks to the rise in information technologies, it is easy for a user of the system to access a dock within the system to unlock or return bicycles. These technologies also provide a wealth of data that can be used to explore how these bike-sharing systems are used.\n",
    "\n",
    "In this project, you will perform an exploratory analysis on data provided by [Motivate](https://www.motivateco.com/), a bike-share system provider for many major cities in the United States. You will compare the system usage between three large cities: New York City, Chicago, and Washington, DC. You will also see if there are any differences within each system for those users that are registered, regular users and those users that are short-term, casual users."
   ]
  },
  {
   "cell_type": "markdown",
   "metadata": {},
   "source": [
    "<a id='pose_questions'></a>\n",
    "## Posing Questions\n",
    "\n",
    "Before looking at the bike sharing data, you should start by asking questions you might want to understand about the bike share data. Consider, for example, if you were working for Motivate. What kinds of information would you want to know about in order to make smarter business decisions? If you were a user of the bike-share service, what factors might influence how you would want to use the service?\n",
    "\n",
    "**Question 1**: Write at least two questions related to bike sharing that you think could be answered by data.\n",
    "\n",
    "**Answer**: <ul>\n",
    "To know which gender or which age group are going to use the bike for more time or more frequently. <br>\n",
    " At what time or at what season there will be what intensity of traffic for bikes"
   ]
  },
  {
   "cell_type": "markdown",
   "metadata": {},
   "source": [
    "<a id='wrangling'></a>\n",
    "## Data Collection and Wrangling\n",
    "\n",
    "Now it's time to collect and explore our data. In this project, we will focus on the record of individual trips taken in 2016 from our selected cities: New York City, Chicago, and Washington, DC. Each of these cities has a page where we can freely download the trip data.:\n",
    "\n",
    "- New York City (Citi Bike): [Link](https://www.citibikenyc.com/system-data)\n",
    "- Chicago (Divvy): [Link](https://www.divvybikes.com/system-data)\n",
    "- Washington, DC (Capital Bikeshare): [Link](https://www.capitalbikeshare.com/system-data)\n",
    "\n",
    "If you visit these pages, you will notice that each city has a different way of delivering its data. Chicago updates with new data twice a year, Washington DC is quarterly, and New York City is monthly. **However, you do not need to download the data yourself.** The data has already been collected for you in the `/data/` folder of the project files. While the original data for 2016 is spread among multiple files for each city, the files in the `/data/` folder collect all of the trip data for the year into one file per city. Some data wrangling of inconsistencies in timestamp format within each city has already been performed for you. In addition, a random 2% sample of the original data is taken to make the exploration more manageable. \n",
    "\n",
    "**Question 2**: However, there is still a lot of data for us to investigate, so it's a good idea to start off by looking at one entry from each of the cities we're going to analyze. Run the first code cell below to load some packages and functions that you'll be using in your analysis. Then, complete the second code cell to print out the first trip recorded from each of the cities (the second line of each data file).\n",
    "\n",
    "> **Tip**: You can run a code cell like you formatted Markdown cells above by clicking on the cell and using the keyboard shortcut **Shift** + **Enter** or **Shift** + **Return**. Alternatively, a code cell can be executed using the **Play** button in the toolbar after selecting it. While the cell is running, you will see an asterisk in the message to the left of the cell, i.e. `In [*]:`. The asterisk will change into a number to show that execution has completed, e.g. `In [1]`. If there is output, it will show up as `Out [1]:`, with an appropriate number to match the \"In\" number."
   ]
  },
  {
   "cell_type": "code",
   "execution_count": 9,
   "metadata": {
    "collapsed": true
   },
   "outputs": [],
   "source": [
    "## import all necessary packages and functions.\n",
    "import csv # read and write csv files\n",
    "from datetime import datetime # operations to parse dates\n",
    "import pprint # use to print data structures like dictionaries in\n",
    "                          # a nicer way than the base print function."
   ]
  },
  {
   "cell_type": "code",
   "execution_count": 75,
   "metadata": {
    "collapsed": false
   },
   "outputs": [
    {
     "name": "stdout",
     "output_type": "stream",
     "text": [
      "\n",
      "City: NYC\n",
      "{   'bikeid': '17109',\n",
      "    'birth year': '',\n",
      "    'end station id': '401',\n",
      "    'end station latitude': '40.72019576',\n",
      "    'end station longitude': '-73.98997825',\n",
      "    'end station name': 'Allen St & Rivington St',\n",
      "    'gender': '0',\n",
      "    'start station id': '532',\n",
      "    'start station latitude': '40.710451',\n",
      "    'start station longitude': '-73.960876',\n",
      "    'start station name': 'S 5 Pl & S 4 St',\n",
      "    'starttime': '1/1/2016 00:09:55',\n",
      "    'stoptime': '1/1/2016 00:23:54',\n",
      "    'tripduration': '839',\n",
      "    'usertype': 'Customer'}\n",
      "\n",
      "City: Chicago\n",
      "{   'bikeid': '2295',\n",
      "    'birthyear': '1990',\n",
      "    'from_station_id': '156',\n",
      "    'from_station_name': 'Clark St & Wellington Ave',\n",
      "    'gender': 'Male',\n",
      "    'starttime': '3/31/2016 23:30',\n",
      "    'stoptime': '3/31/2016 23:46',\n",
      "    'to_station_id': '166',\n",
      "    'to_station_name': 'Ashland Ave & Wrightwood Ave',\n",
      "    'trip_id': '9080545',\n",
      "    'tripduration': '926',\n",
      "    'usertype': 'Subscriber'}\n",
      "\n",
      "City: Washington\n",
      "{   'Bike number': 'W20842',\n",
      "    'Duration (ms)': '427387',\n",
      "    'End date': '3/31/2016 23:04',\n",
      "    'End station': 'Georgia Ave and Fairmont St NW',\n",
      "    'End station number': '31207',\n",
      "    'Member Type': 'Registered',\n",
      "    'Start date': '3/31/2016 22:57',\n",
      "    'Start station': 'Park Rd & Holmead Pl NW',\n",
      "    'Start station number': '31602'}\n"
     ]
    }
   ],
   "source": [
    "def print_first_point(filename):\n",
    "    \"\"\"\n",
    "    This function prints and returns the first data point (second row) from\n",
    "    a csv file that includes a header row.\n",
    "    \"\"\"\n",
    "    # print city name for reference\n",
    "    pp = pprint.PrettyPrinter(indent=4)\n",
    "    city = filename.split('-')[0].split('\\\\')[-1]\n",
    "    print('\\nCity: {}'.format(city))\n",
    "    path = 'C:\\\\Users\\\\Anish\\\\'+filename\n",
    "    with open(filename, 'r') as f_in:\n",
    "        ## TODO: Use the csv library to set up a DictReader object. ##\n",
    "        ## see https://docs.python.org/3/library/csv.html           ##\n",
    "        trip_reader = csv.reader(f_in)\n",
    "        \n",
    "        ## TODO: Use a function on the DictReader object to read the     ##\n",
    "        ## first trip from the data file and store it in a variable.     ##\n",
    "        ## see https://docs.python.org/3/library/csv.html#reader-objects ##\n",
    "        headings = next(trip_reader)\n",
    "        \n",
    "        # Got the first line as headings so we need\n",
    "        # to make another variable to get the first line of 'data'\n",
    "        first_trip = next(trip_reader)\n",
    "  \n",
    "        # We can make a dictionary here with each of the heading as key\n",
    "        #and its respective values as its value\n",
    "        first_trip_details = {}\n",
    "        for i in range(len(headings)):\n",
    "            first_trip_details[headings[i]] = first_trip[i]\n",
    "        \n",
    "        ## TODO: Use the pprint library to print the first trip. ##\n",
    "        ## see https://docs.python.org/3/library/pprint.html     ##\n",
    "        # print using the pprint object 'pp'\n",
    "        pp.pprint(first_trip_details)\n",
    "        \n",
    "    # output city name and first trip for later testing\n",
    "    return (city, first_trip_details)\n",
    "\n",
    "# list of files for each city\n",
    "data_files = ['data\\\\NYC-CitiBike-2016.csv',\n",
    "              'data\\\\Chicago-Divvy-2016.csv',\n",
    "              'data\\\\Washington-CapitalBikeshare-2016.csv',]\n",
    "\n",
    "# print the first trip from each file, store in dictionary\n",
    "example_trips = {}\n",
    "for data_file in data_files:\n",
    "    city, first_trip = print_first_point(data_file)\n",
    "    example_trips[city] = first_trip"
   ]
  },
  {
   "cell_type": "markdown",
   "metadata": {},
   "source": [
    "If everything has been filled out correctly, you should see below the printout of each city name (which has been parsed from the data file name) that the first trip has been parsed in the form of a dictionary. When you set up a `DictReader` object, the first row of the data file is normally interpreted as column names. Every other row in the data file will use those column names as keys, as a dictionary is generated for each row.\n",
    "\n",
    "This will be useful since we can refer to quantities by an easily-understandable label instead of just a numeric index. For example, if we have a trip stored in the variable `row`, then we would rather get the trip duration from `row['duration']` instead of `row[0]`.\n",
    "\n",
    "<a id='condensing'></a>\n",
    "### Condensing the Trip Data\n",
    "\n",
    "It should also be observable from the above printout that each city provides different information. Even where the information is the same, the column names and formats are sometimes different. To make things as simple as possible when we get to the actual exploration, we should trim and clean the data. Cleaning the data makes sure that the data formats across the cities are consistent, while trimming focuses only on the parts of the data we are most interested in to make the exploration easier to work with.\n",
    "\n",
    "You will generate new data files with five values of interest for each trip: trip duration, starting month, starting hour, day of the week, and user type. Each of these may require additional wrangling depending on the city:\n",
    "\n",
    "- **Duration**: This has been given to us in seconds (New York, Chicago) or milliseconds (Washington). A more natural unit of analysis will be if all the trip durations are given in terms of minutes.\n",
    "- **Month**, **Hour**, **Day of Week**: Ridership volume is likely to change based on the season, time of day, and whether it is a weekday or weekend. Use the start time of the trip to obtain these values. The New York City data includes the seconds in their timestamps, while Washington and Chicago do not. The [`datetime`](https://docs.python.org/3/library/datetime.html) package will be very useful here to make the needed conversions.\n",
    "- **User Type**: It is possible that users who are subscribed to a bike-share system will have different patterns of use compared to users who only have temporary passes. Washington divides its users into two types: 'Registered' for users with annual, monthly, and other longer-term subscriptions, and 'Casual', for users with 24-hour, 3-day, and other short-term passes. The New York and Chicago data uses 'Subscriber' and 'Customer' for these groups, respectively. For consistency, you will convert the Washington labels to match the other two.\n",
    "\n",
    "\n",
    "**Question 3a**: Complete the helper functions in the code cells below to address each of the cleaning tasks described above."
   ]
  },
  {
   "cell_type": "code",
   "execution_count": 56,
   "metadata": {
    "collapsed": false
   },
   "outputs": [],
   "source": [
    "def duration_in_mins(datum, city):\n",
    "    \"\"\"\n",
    "    Takes as input a dictionary containing info about a single trip (datum) and\n",
    "    its origin city (city) and returns the trip duration in units of minutes.\n",
    "    \n",
    "    Remember that Washington is in terms of milliseconds while Chicago and NYC\n",
    "    are in terms of seconds. \n",
    "    \n",
    "    HINT: The csv module reads in all of the data as strings, including numeric\n",
    "    values. You will need a function to convert the strings into an appropriate\n",
    "    numeric type when making your transformations.\n",
    "    see https://docs.python.org/3/library/functions.html\n",
    "    \"\"\"\n",
    "    \n",
    "    # YOUR CODE HERE\n",
    "    # Go through each key in datum\n",
    "    for element in datum:\n",
    "        \n",
    "        # Find for a key which has 'duration' charachters in its key\n",
    "        if 'duration' in element.lower():\n",
    "            \n",
    "            # See if the duration is in milliseconds and divide with 1000 to covert it into seconds\n",
    "            if 'ms' in element.lower():\n",
    "                duration = float(datum[element]) / 60000\n",
    "                \n",
    "            # If ms is not found divide it with 60 to convert it into minutes\n",
    "            else:\n",
    "                duration = float(datum[element]) / 60\n",
    "\n",
    "    # Return duration which is in minutes\n",
    "    return duration\n",
    "\n",
    "\n",
    "# Some tests to check that your code works. There should be no output if all of\n",
    "# the assertions pass. The `example_trips` dictionary was obtained from when\n",
    "# you printed the first trip from each of the original data files.\n",
    "tests = {'NYC': 13.9833,\n",
    "         'Chicago': 15.4333,\n",
    "         'Washington': 7.1231}\n",
    "\n",
    "for city in tests:\n",
    "    assert abs(duration_in_mins(example_trips[city], city) - tests[city]) < .001"
   ]
  },
  {
   "cell_type": "code",
   "execution_count": 77,
   "metadata": {
    "collapsed": false
   },
   "outputs": [],
   "source": [
    "def time_of_trip(datum, city):\n",
    "    \"\"\"\n",
    "    Takes as input a dictionary containing info about a single trip (datum) and\n",
    "    its origin city (city) and returns the month, hour, and day of the week in\n",
    "    which the trip was made.\n",
    "    \n",
    "    Remember that NYC includes seconds, while Washington and Chicago do not.\n",
    "    \n",
    "    HINT: You should use the datetime module to parse the original date\n",
    "    strings into a format that is useful for extracting the desired information.\n",
    "    see https://docs.python.org/3/library/datetime.html#strftime-and-strptime-behavior\n",
    "    \"\"\"\n",
    "    \n",
    "    # YOUR CODE HERE\n",
    "    \n",
    "    #different formats for different representations\n",
    "    format1 = \"%m/%d/%Y %H:%M:%S\" \n",
    "    format2 = \"%m/%d/%Y %H:%M\"\n",
    "    days = ['Monday', 'Tuesday', 'Wednesday', 'Thursday', 'Friday', 'Saturday', 'Sunday']\n",
    "    \n",
    "    # to check if the time is with seconds, we can check how many occurances of ':'\n",
    "    for detail in datum:\n",
    "        \n",
    "        # get the time and date if the key contains the respective charachters\n",
    "        if 'starttime' in detail.lower() or 'start date'  in detail.lower():\n",
    "            \n",
    "            # use the appropriate format for datetime function\n",
    "            if datum[detail].count(':') > 1:\n",
    "                timetup = datetime.strptime( datum[detail], format1 ).timetuple()\n",
    " \n",
    "            else:\n",
    "                timetup = datetime.strptime( datum[detail], format2 ).timetuple()\n",
    "            \n",
    "    # get the respective values from the timetuple\n",
    "    month, hour, day_of_week = timetup.tm_mon, timetup.tm_hour, days[timetup.tm_wday]\n",
    "    return month, hour, day_of_week\n",
    "\n",
    "\n",
    "# Some tests to check that your code works. There should be no output if all of\n",
    "# the assertions pass. The `example_trips` dictionary was obtained from when\n",
    "# you printed the first trip from each of the original data files.\n",
    "tests = {'NYC': (1, 0, 'Friday'),\n",
    "         'Chicago': (3, 23, 'Thursday'),\n",
    "         'Washington': (3, 22, 'Thursday')}\n",
    "\n",
    "for city in tests:\n",
    "    assert time_of_trip(example_trips[city], city) == tests[city]"
   ]
  },
  {
   "cell_type": "code",
   "execution_count": 58,
   "metadata": {
    "collapsed": false
   },
   "outputs": [],
   "source": [
    "def type_of_user(datum, city):\n",
    "    \"\"\"\n",
    "    Takes as input a dictionary containing info about a single trip (datum) and\n",
    "    its origin city (city) and returns the type of system user that made the\n",
    "    trip.\n",
    "    \n",
    "    Remember that Washington has different category names compared to Chicago\n",
    "    and NYC. \n",
    "    \"\"\"\n",
    "    \n",
    "    # YOUR CODE HERE\n",
    "    # Go through each key in datum\n",
    "    for element in datum:\n",
    "        \n",
    "        # Find for a key which has 'type' charachters in its key\n",
    "        if 'type' in element.lower():\n",
    "            \n",
    "            if 'member' in element.lower():\n",
    "                user_type = 'Subscriber'\n",
    "            else:\n",
    "                user_type = datum[element]\n",
    "                \n",
    "    return user_type\n",
    "\n",
    "\n",
    "# Some tests to check that your code works. There should be no output if all of\n",
    "# the assertions pass. The `example_trips` dictionary was obtained from when\n",
    "# you printed the first trip from each of the original data files.\n",
    "tests = {'NYC': 'Customer',\n",
    "         'Chicago': 'Subscriber',\n",
    "         'Washington': 'Subscriber'}\n",
    "\n",
    "for city in tests:\n",
    "    assert type_of_user(example_trips[city], city) == tests[city]"
   ]
  },
  {
   "cell_type": "markdown",
   "metadata": {},
   "source": [
    "**Question 3b**: Now, use the helper functions you wrote above to create a condensed data file for each city consisting only of the data fields indicated above. In the `/examples/` folder, you will see an example datafile from the [Bay Area Bike Share](http://www.bayareabikeshare.com/open-data) before and after conversion. Make sure that your output is formatted to be consistent with the example file."
   ]
  },
  {
   "cell_type": "code",
   "execution_count": 106,
   "metadata": {
    "collapsed": true
   },
   "outputs": [],
   "source": [
    "def convert_file_to_json(trip_reader):\n",
    "    \"\"\"\n",
    "    This function it to convert each csv to json\n",
    "    so as to easily call the values with the keys\n",
    "    \n",
    "    \"\"\"\n",
    "    trip_list = []\n",
    "    \n",
    "    # Get the heading names\n",
    "    headings = next(trip_reader)\n",
    "    \n",
    "    #count variable\n",
    "    index_count = 0\n",
    "    \n",
    "    # Go through each row and create json for each trip\n",
    "    for each_row in trip_reader:\n",
    "        \n",
    "        # append a list to root variable as each trip data\n",
    "        trip_list.append({})\n",
    "        \n",
    "        #Go through each trip details\n",
    "        for i in range(len(headings)):\n",
    "            trip_list[index_count][headings[i]] = each_row[i]\n",
    "            \n",
    "        #incremnet the count so as to inticate new trip\n",
    "        index_count += 1\n",
    "    \n",
    "    # Return the created json\n",
    "    return trip_list"
   ]
  },
  {
   "cell_type": "code",
   "execution_count": 73,
   "metadata": {
    "collapsed": false
   },
   "outputs": [],
   "source": [
    "def condense_data(in_file, out_file, city):\n",
    "    \"\"\"\n",
    "    This function takes full data from the specified input file\n",
    "    and writes the condensed data to a specified output file. The city\n",
    "    argument determines how the input file will be parsed.\n",
    "    \n",
    "    HINT: See the cell below to see how the arguments are structured!\n",
    "    \"\"\"\n",
    "    \n",
    "    with open(out_file, 'w',newline='') as f_out, open(in_file, 'r') as f_in:\n",
    "        # set up csv DictWriter object - writer requires column names for the\n",
    "        # first row as the \"fieldnames\" argument\n",
    "\n",
    "        out_colnames = ['duration', 'month', 'hour', 'day_of_week', 'user_type']        \n",
    "        trip_writer = csv.DictWriter(f_out, fieldnames = out_colnames, )\n",
    "        trip_writer.writeheader()\n",
    "        \n",
    "        ## TODO: set up csv DictReader object ##\n",
    "        trip_reader = csv.reader(f_in)\n",
    "        \n",
    "        ## convert each row into key value pairs\n",
    "        trip_list = convert_file_to_json(trip_reader)\n",
    "        \n",
    "        # collect data from and process each row\n",
    "        for row in trip_list:\n",
    "            # set up a dictionary to hold the values for the cleaned and trimmed\n",
    "            # data point\n",
    "            new_point = {}\n",
    "            \n",
    "\n",
    "\n",
    "            ## TODO: use the helper functions to get the cleaned data from  ##\n",
    "            ## the original data dictionaries.                              ##\n",
    "            ## Note that the keys for the new_point dictionary should match ##\n",
    "            ## the column names set in the DictWriter object above.         ##\n",
    "            new_point['duration'] = duration_in_mins(row, city)\n",
    "            new_point['month'], new_point['hour'], new_point['day_of_week'] = time_of_trip(row, city)\n",
    "            new_point['user_type'] = type_of_user(row, city)\n",
    "                    \n",
    "\n",
    "            ## TODO: write the processed information to the output file.     ##\n",
    "            ## see https://docs.python.org/3/library/csv.html#writer-objects ##\n",
    "            trip_writer.writerow(new_point)\n",
    "            \n",
    "            "
   ]
  },
  {
   "cell_type": "code",
   "execution_count": 78,
   "metadata": {
    "collapsed": false
   },
   "outputs": [
    {
     "name": "stdout",
     "output_type": "stream",
     "text": [
      "\n",
      "City: ./data/Chicago\n",
      "{   'day_of_week': 'Thursday',\n",
      "    'duration': '15.433333333333334',\n",
      "    'hour': '23',\n",
      "    'month': '3',\n",
      "    'user_type': 'Subscriber'}\n",
      "\n",
      "City: ./data/NYC\n",
      "{   'day_of_week': 'Friday',\n",
      "    'duration': '13.983333333333333',\n",
      "    'hour': '0',\n",
      "    'month': '1',\n",
      "    'user_type': 'Customer'}\n",
      "\n",
      "City: ./data/Washington\n",
      "{   'day_of_week': 'Thursday',\n",
      "    'duration': '7.123116666666666',\n",
      "    'hour': '22',\n",
      "    'month': '3',\n",
      "    'user_type': 'Subscriber'}\n"
     ]
    }
   ],
   "source": [
    "# Run this cell to check your work\n",
    "city_info = {'Washington': {'in_file': './data/Washington-CapitalBikeshare-2016.csv',\n",
    "                            'out_file': './data/Washington-2016-Summary.csv'},\n",
    "             'Chicago': {'in_file': './data/Chicago-Divvy-2016.csv',\n",
    "                         'out_file': './data/Chicago-2016-Summary.csv'},\n",
    "             'NYC': {'in_file': './data/NYC-CitiBike-2016.csv',\n",
    "                     'out_file': './data/NYC-2016-Summary.csv'}}\n",
    "\n",
    "for city, filenames in city_info.items():\n",
    "    condense_data(filenames['in_file'], filenames['out_file'], city)\n",
    "    print_first_point(filenames['out_file'])"
   ]
  },
  {
   "cell_type": "markdown",
   "metadata": {},
   "source": [
    "> **Tip**: If you save a jupyter Notebook, the output from running code blocks will also be saved. However, the state of your workspace will be reset once a new session is started. Make sure that you run all of the necessary code blocks from your previous session to reestablish variables and functions before picking up where you last left off.\n",
    "\n",
    "<a id='eda'></a>\n",
    "## Exploratory Data Analysis\n",
    "\n",
    "Now that you have the data collected and wrangled, you're ready to start exploring the data. In this section you will write some code to compute descriptive statistics from the data. You will also be introduced to the `matplotlib` library to create some basic histograms of the data.\n",
    "\n",
    "<a id='statistics'></a>\n",
    "### Statistics\n",
    "\n",
    "First, let's compute some basic counts. The first cell below contains a function that uses the csv module to iterate through a provided data file, returning the number of trips made by subscribers and customers. The second cell runs this function on the example Bay Area data in the `/examples/` folder. Modify the cells to answer the question below.\n",
    "\n",
    "**Question 4a**: Which city has the highest number of trips? Which city has the highest proportion of trips made by subscribers? Which city has the highest proportion of trips made by short-term customers?\n",
    "\n",
    "**Answer**:\n",
    "<p>&nbsp; &nbsp;1. <b>New York City</b> has the highest number of trips</p>\n",
    "\n",
    "<p>&nbsp; &nbsp;2. <b>Washington</b> has the highest proportion of trips made by subscribers</p>\n",
    "\n",
    "<p>&nbsp; &nbsp;3. <b>Chicago</b> has the highest proportion of trips made by subscribers</p>"
   ]
  },
  {
   "cell_type": "code",
   "execution_count": 83,
   "metadata": {
    "collapsed": true
   },
   "outputs": [],
   "source": [
    "def number_of_trips(filename):\n",
    "    \"\"\"\n",
    "    This function reads in a file with trip data and reports the number of\n",
    "    trips made by subscribers, customers, and total overall.\n",
    "    \"\"\"\n",
    "    with open(filename, 'r') as f_in:\n",
    "        # set up csv reader object\n",
    "        reader = csv.DictReader(f_in)\n",
    "        \n",
    "        # initialize count variables\n",
    "        n_subscribers = 0\n",
    "        n_customers = 0\n",
    "        \n",
    "        # tally up ride types\n",
    "        for row in reader:\n",
    "            if row['user_type'] == 'Subscriber':\n",
    "                n_subscribers += 1\n",
    "            else:\n",
    "                n_customers += 1\n",
    "        \n",
    "        # compute total number of rides\n",
    "        n_total = n_subscribers + n_customers\n",
    "        \n",
    "        # return tallies as a tuple\n",
    "        return(n_subscribers, n_customers, n_total)"
   ]
  },
  {
   "cell_type": "code",
   "execution_count": 84,
   "metadata": {
    "collapsed": false
   },
   "outputs": [
    {
     "name": "stdout",
     "output_type": "stream",
     "text": [
      "(245896, 30902, 276798)\n",
      "(54982, 17149, 72131)\n",
      "(66326, 0, 66326)\n"
     ]
    }
   ],
   "source": [
    "## Modify this and the previous cell to answer Question 4a. Remember to run ##\n",
    "## the function on the cleaned data files you created from Question 3.      ##\n",
    "\n",
    "data_files = ['./data/NYC-2016-Summary.csv',\n",
    "              './data/Chicago-2016-Summary.csv',\n",
    "              './data/Washington-2016-Summary.csv',]\n",
    "for data_file in data_files:\n",
    "    print(number_of_trips(data_file))"
   ]
  },
  {
   "cell_type": "markdown",
   "metadata": {},
   "source": [
    "> **Tip**: In order to add additional cells to a notebook, you can use the \"Insert Cell Above\" and \"Insert Cell Below\" options from the menu bar above. There is also an icon in the toolbar for adding new cells, with additional icons for moving the cells up and down the document. By default, new cells are of the code type; you can also specify the cell type (e.g. Code or Markdown) of selected cells from the Cell menu or the dropdown in the toolbar.\n",
    "\n",
    "Now, you will write your own code to continue investigating properties of the data.\n",
    "\n",
    "**Question 4b**: Bike-share systems are designed for riders to take short trips. Most of the time, users are allowed to take trips of 30 minutes or less with no additional charges, with overage charges made for trips of longer than that duration. What is the average trip length for each city? What proportion of rides made in each city are longer than 30 minutes?\n",
    "\n",
    "**Answer**:\n",
    "<table>\n",
    "\t<th>City</th>\n",
    "\t<th>Average Trip</th>\n",
    "\t<th>Longer Rides</th>\n",
    "<tr> <td>Chicago</td> <td>16.563629368787335</td> <td>6010</td></tr>\n",
    "<tr> <td>NYC</td> <td>15.81259299802294</td> <td>20213</tr>\n",
    "<tr> <td>Washington</td> <td>18.93287355913721</td> <td>7189</td></tr>\n",
    "</table>\n",
    "\n"
   ]
  },
  {
   "cell_type": "code",
   "execution_count": 114,
   "metadata": {
    "collapsed": true,
    "scrolled": true
   },
   "outputs": [],
   "source": [
    "def average_duration(filename):\n",
    "    with open(filename, 'r') as f_in:\n",
    "        # set up csv reader object\n",
    "        reader = csv.DictReader(f_in)\n",
    "        \n",
    "        # initialize count variables\n",
    "        \n",
    "        total_duration = 0\n",
    "        total_trips = 0\n",
    "        subscriber_duration = 0\n",
    "        customer_duration = 0\n",
    "        subscriber_trips = 0\n",
    "        customer_trips = 0\n",
    "        # increment the above variables\n",
    "        for row in reader:\n",
    "            if row['duration'] is not None:\n",
    "                \n",
    "                # Increase customer, subscriber and total duration\n",
    "                if row['user_type'] == 'Subscriber':\n",
    "                    subscriber_duration += float(row['duration'])\n",
    "                    subscriber_trips += 1\n",
    "                else:\n",
    "                    customer_duration += float(row['duration'])\n",
    "                    customer_trips += 1\n",
    "                    \n",
    "                total_duration += float(row['duration'])\n",
    "                total_trips += 1\n",
    "        \n",
    "        # compute average_duration\n",
    "        average_duration = total_duration / total_trips\n",
    "        try:\n",
    "            average_duration_json = {}\n",
    "            average_duration_json['average'] = average_duration\n",
    "            average_duration_json['subscriber'] = subscriber_duration / subscriber_trips\n",
    "            average_duration_json['customer'] = customer_duration / customer_trips\n",
    "            \n",
    "        except ZeroDivisionError:\n",
    "            \n",
    "            average_duration_json = {}\n",
    "            average_duration_json['average'] = average_duration\n",
    "            average_duration_json['subscriber'] = subscriber_duration / subscriber_trips\n",
    "            average_duration_json['customer'] = 0\n",
    "        \n",
    "        \n",
    "        # return average_duration\n",
    "        return(average_duration_json)\n",
    "    "
   ]
  },
  {
   "cell_type": "code",
   "execution_count": 121,
   "metadata": {
    "collapsed": false
   },
   "outputs": [],
   "source": [
    "def longer_rides(filename):\n",
    "    with open(filename, 'r') as f_in:\n",
    "        # set up csv reader object\n",
    "        reader = csv.DictReader(f_in)\n",
    "\n",
    "        # Specify the tie to define longer trips\n",
    "        longer_duration = 30\n",
    "\n",
    "        # initialize count variables\n",
    "        longer_trips = 0\n",
    "        subscriber_trips = 0\n",
    "        customer_trips = 0\n",
    "\n",
    "        # increment the above variables\n",
    "        for row in reader:\n",
    "            if float(row['duration']) > longer_duration:\n",
    "                if row['user_type'] == 'Subscriber':\n",
    "                    subscriber_trips += 1\n",
    "                else:\n",
    "                    customer_trips += 1\n",
    "                longer_trips += 1\n",
    "\n",
    "        # creating dictionary\n",
    "        longer_rides_ = {}\n",
    "        longer_rides_['total'] = longer_trips\n",
    "        longer_rides_['subscriber'] = subscriber_trips\n",
    "        longer_rides_['customer'] = customer_trips\n",
    "        # return trip count\n",
    "        return(longer_rides_)"
   ]
  },
  {
   "cell_type": "code",
   "execution_count": 122,
   "metadata": {
    "collapsed": false
   },
   "outputs": [
    {
     "name": "stdout",
     "output_type": "stream",
     "text": [
      "Chicago 16.563629368787335 6010\n",
      "NYC 15.81259299802294 20213\n",
      "Washington 18.93287355913721 7189\n"
     ]
    }
   ],
   "source": [
    "## Use this and additional cells to answer Question 4b.                 ##\n",
    "##                                                                      ##\n",
    "## HINT: The csv module reads in all of the data as strings, including  ##\n",
    "## numeric values. You will need a function to convert the strings      ##\n",
    "## into an appropriate numeric type before you aggregate data.          ##\n",
    "## TIP: For the Bay Area example, the average trip length is 14 minutes ##\n",
    "## and 3.5% of trips are longer than 30 minutes.                        ##\n",
    "\n",
    "city_info = {'Washington': {'in_file': './data/Washington-CapitalBikeshare-2016.csv',\n",
    "                            'out_file': './data/Washington-2016-Summary.csv'},\n",
    "             'Chicago': {'in_file': './data/Chicago-Divvy-2016.csv',\n",
    "                         'out_file': './data/Chicago-2016-Summary.csv'},\n",
    "             'NYC': {'in_file': './data/NYC-CitiBike-2016.csv',\n",
    "                     'out_file': './data/NYC-2016-Summary.csv'}}\n",
    "\n",
    "# Traverse through the city info and send file name to respective fuctions to compute results\n",
    "for city, data_file in city_info.items():\n",
    "    print(city, average_duration(data_file['out_file'])['average'], longer_rides(data_file['out_file'])['total'] )"
   ]
  },
  {
   "cell_type": "markdown",
   "metadata": {},
   "source": [
    "**Question 4c**: Dig deeper into the question of trip duration based on ridership. Choose one city. Within that city, which type of user takes longer rides on average: Subscribers or Customers?\n",
    "\n",
    "**Answer**: <br>\n",
    "In <b>Chicago</b>, <b>subscriber</b> takes longer rides\n",
    "<table>\n",
    "\t<th>City</th>\n",
    "\t<th>Subscriber Average</th>\n",
    "\t<th>Customer Average</th>\n",
    "\t<th>Subscriber Longer</th>\n",
    "\t<th>Customer Longer</th>\n",
    "<tr><td>Chicago</td><td>12.067201690250076</td><td>30.979781133982506</td><td>1176</td><td>4834</td></tr>\n",
    "<tr><td>NYC</td><td>13.680790523907177</td><td>32.77595139473187</td><td>13131</td><td>7082</td></tr>\n",
    "<tr><td>Washington</td><td>18.93287355913721</td><td>0</td><td>7189</td><td>0</td></tr>\n",
    "</table>\n",
    "\n"
   ]
  },
  {
   "cell_type": "code",
   "execution_count": 154,
   "metadata": {
    "collapsed": false
   },
   "outputs": [
    {
     "name": "stdout",
     "output_type": "stream",
     "text": [
      "Chicago 12.067201690250076 30.979781133982506 1176 4834\n",
      "NYC 13.680790523907177 32.77595139473187 13131 7082\n",
      "Washington 18.93287355913721 0 7189 0\n"
     ]
    }
   ],
   "source": [
    "## Use this and additional cells to answer Question 4c. If you have    ##\n",
    "## not done so yet, consider revising some of your previous code to    ##\n",
    "## make use of functions for reusability.                              ##\n",
    "##                                                                     ##\n",
    "## TIP: For the Bay Area example data, you should find the average     ##\n",
    "## Subscriber trip duration to be 9.5 minutes and the average Customer ##\n",
    "## trip duration to be 54.6 minutes. Do the other cities have this     ##\n",
    "## level of difference?   \n",
    "\n",
    "# Traverse through the city info and send file name to respective fuctions to compute results\n",
    "for city, data_file in city_info.items():\n",
    "    \n",
    "    #result from average_duration method\n",
    "    average = average_duration(data_file['out_file'])\n",
    "    \n",
    "    #getting the respective values from the dictionary\n",
    "    subscriber_average = average['subscriber']\n",
    "    customer_average = average['customer']\n",
    "    \n",
    "    #result from longer_ride method\n",
    "    longer_ride = longer_rides(data_file['out_file'])\n",
    "    \n",
    "    #getting the respective values from the dictionary\n",
    "    subscriber_longer = longer_ride['subscriber']\n",
    "    customer_longer = longer_ride['customer']\n",
    "    print(city, subscriber_average, customer_average, subscriber_longer, customer_longer)\n"
   ]
  },
  {
   "cell_type": "markdown",
   "metadata": {},
   "source": [
    "<a id='visualizations'></a>\n",
    "### Visualizations\n",
    "\n",
    "The last set of values that you computed should have pulled up an interesting result. While the mean trip time for Subscribers is well under 30 minutes, the mean trip time for Customers is actually _above_ 30 minutes! It will be interesting for us to look at how the trip times are distributed. In order to do this, a new library will be introduced here, `matplotlib`. Run the cell below to load the library and to generate an example plot."
   ]
  },
  {
   "cell_type": "code",
   "execution_count": 131,
   "metadata": {
    "collapsed": false
   },
   "outputs": [
    {
     "data": {
      "image/png": "[encoded data removed]",
      "text/plain": [
       "<matplotlib.figure.Figure at 0x1cd017865c0>"
      ]
     },
     "metadata": {},
     "output_type": "display_data"
    }
   ],
   "source": [
    "# load library\n",
    "import matplotlib.pyplot as plt\n",
    "\n",
    "# this is a 'magic word' that allows for plots to be displayed\n",
    "# inline with the notebook. If you want to know more, see:\n",
    "# http://ipython.readthedocs.io/en/stable/interactive/magics.html\n",
    "%matplotlib inline \n",
    "\n",
    "# example histogram, data taken from bay area sample\n",
    "data = [ 7.65,  8.92,  7.42,  5.50, 16.17,  4.20,  8.98,  9.62, 11.48, 14.33,\n",
    "        19.02, 21.53,  3.90,  7.97,  2.62,  2.67,  3.08, 14.40, 12.90,  7.83,\n",
    "        25.12,  8.30,  4.93, 12.43, 10.60,  6.17, 10.88,  4.78, 15.15,  3.53,\n",
    "         9.43, 13.32, 11.72,  9.85,  5.22, 15.10,  3.95,  3.17,  8.78,  1.88,\n",
    "         4.55, 12.68, 12.38,  9.78,  7.63,  6.45, 17.38, 11.90, 11.52,  8.63,]\n",
    "plt.hist(data)\n",
    "plt.title('Distribution of Trip Durations')\n",
    "plt.xlabel('Duration (m)')\n",
    "plt.show()"
   ]
  },
  {
   "cell_type": "markdown",
   "metadata": {},
   "source": [
    "In the above cell, we collected fifty trip times in a list, and passed this list as the first argument to the `.hist()` function. This function performs the computations and creates plotting objects for generating a histogram, but the plot is actually not rendered until the `.show()` function is executed. The `.title()` and `.xlabel()` functions provide some labeling for plot context.\n",
    "\n",
    "You will now use these functions to create a histogram of the trip times for the city you selected in question 4c. Don't separate the Subscribers and Customers for now: just collect all of the trip times and plot them."
   ]
  },
  {
   "cell_type": "code",
   "execution_count": 138,
   "metadata": {
    "collapsed": false
   },
   "outputs": [
    {
     "name": "stdout",
     "output_type": "stream",
     "text": [
      "1439.4166666666667\n"
     ]
    },
    {
     "data": {
      "image/png": "[encoded data removed]",
      "text/plain": [
       "<matplotlib.figure.Figure at 0x1cd04186a58>"
      ]
     },
     "metadata": {},
     "output_type": "display_data"
    }
   ],
   "source": [
    "## Use this and additional cells to collect all of the trip times as a list ##\n",
    "## and then use pyplot functions to generate a histogram of trip times.     ##\n",
    "with open(\"./data/Chicago-2016-Summary.csv\", 'r') as f_in:\n",
    "    trips = []\n",
    "    reader = csv.DictReader(f_in)\n",
    "    for row in reader:\n",
    "        trips.append(float(row['duration']))\n",
    "\n",
    "plt.hist(trips)\n",
    "plt.title('Distribution of Trip Durations in Chicago')\n",
    "plt.xlabel('Duration (m)')\n",
    "plt.show()\n",
    "    \n"
   ]
  },
  {
   "cell_type": "markdown",
   "metadata": {},
   "source": [
    "If you followed the use of the `.hist()` and `.show()` functions exactly like in the example, you're probably looking at a plot that's completely unexpected. The plot consists of one extremely tall bar on the left, maybe a very short second bar, and a whole lot of empty space in the center and right. Take a look at the duration values on the x-axis. This suggests that there are some highly infrequent outliers in the data. Instead of reprocessing the data, you will use additional parameters with the `.hist()` function to limit the range of data that is plotted. Documentation for the function can be found [[here]](https://matplotlib.org/devdocs/api/_as_gen/matplotlib.pyplot.hist.html#matplotlib.pyplot.hist).\n",
    "\n",
    "**Question 5**: Use the parameters of the `.hist()` function to plot the distribution of trip times for the Subscribers in your selected city. Do the same thing for only the Customers. Add limits to the plots so that only trips of duration less than 75 minutes are plotted. As a bonus, set the plots up so that bars are in five-minute wide intervals. For each group, where is the peak of each distribution? How would you describe the shape of each distribution?\n",
    "\n",
    "**Answer**: Replace this text with your response!"
   ]
  },
  {
   "cell_type": "code",
   "execution_count": 155,
   "metadata": {
    "collapsed": false
   },
   "outputs": [
    {
     "data": {
      "image/png": "[encoded data removed]",
      "text/plain": [
       "<matplotlib.figure.Figure at 0x1cd1be21da0>"
      ]
     },
     "metadata": {},
     "output_type": "display_data"
    },
    {
     "data": {
      "image/png": "[encoded data removed]",
      "text/plain": [
       "<matplotlib.figure.Figure at 0x1cd03cdbdd8>"
      ]
     },
     "metadata": {},
     "output_type": "display_data"
    }
   ],
   "source": [
    "## Use this and additional cells to answer Question 5. ##\n",
    "with open(\"./data/Chicago-2016-Summary.csv\", 'r') as f_in:\n",
    "    \n",
    "    # Intializing the lists\n",
    "    subscriber_durations =  []\n",
    "    customer_durations = []\n",
    "    \n",
    "    # Creating reader object\n",
    "    reader = csv.DictReader(f_in)\n",
    "    \n",
    "    # Traversing through the reader\n",
    "    for row in reader:\n",
    "        \n",
    "        # Append the durations to subscriber and customer lists\n",
    "        if row['user_type'] == 'Subscriber' and float(row['duration']) < 75:\n",
    "            subscriber_durations.append(float(row['duration']))\n",
    "        elif row['user_type'] == 'Customer' and float(row['duration']) < 75:\n",
    "            customer_durations.append(float(row['duration']))\n",
    "\n",
    "#plot for subscriber data\n",
    "plt.hist(subscriber_durations, bins = 15)\n",
    "plt.title('Distribution of Trip Durations in Chicago of Subscribers')\n",
    "plt.xlabel('Duration (m)')\n",
    "plt.show()\n",
    "\n",
    "#plot for customer data\n",
    "plt.hist(customer_durations, bins = [x*5 for x in range(0,15)])\n",
    "plt.title('Distribution of Trip Durations in Chicago of Customers')\n",
    "plt.xlabel('Duration (m)')\n",
    "plt.show()\n",
    "\n"
   ]
  },
  {
   "cell_type": "markdown",
   "metadata": {
    "collapsed": true
   },
   "source": [
    "<a id='eda_continued'></a>\n",
    "## Performing Your Own Analysis\n",
    "\n",
    "So far, you've performed an initial exploration into the data available. You have compared the relative volume of trips made between three U.S. cities and the ratio of trips made by Subscribers and Customers. For one of these cities, you have investigated differences between Subscribers and Customers in terms of how long a typical trip lasts. Now it is your turn to continue the exploration in a direction that you choose. Here are a few suggestions for questions to explore:\n",
    "\n",
    "- How does ridership differ by month or season? Which month / season has the highest ridership? Does the ratio of Subscriber trips to Customer trips change depending on the month or season?\n",
    "- Is the pattern of ridership different on the weekends versus weekdays? On what days are Subscribers most likely to use the system? What about Customers? Does the average duration of rides change depending on the day of the week?\n",
    "- During what time of day is the system used the most? Is there a difference in usage patterns for Subscribers and Customers?\n",
    "\n",
    "If any of the questions you posed in your answer to question 1 align with the bullet points above, this is a good opportunity to investigate one of them. As part of your investigation, you will need to create a visualization. If you want to create something other than a histogram, then you might want to consult the [Pyplot documentation](https://matplotlib.org/devdocs/api/pyplot_summary.html). In particular, if you are plotting values across a categorical variable (e.g. city, user type), a bar chart will be useful. The [documentation page for `.bar()`](https://matplotlib.org/devdocs/api/_as_gen/matplotlib.pyplot.bar.html#matplotlib.pyplot.bar) includes links at the bottom of the page with examples for you to build off of for your own use.\n",
    "\n",
    "**Question 6**: Continue the investigation by exploring another question that could be answered by the data available. Document the question you want to explore below. Your investigation should involve at least two variables and should compare at least two groups. You should also use at least one visualization as part of your explorations.\n",
    "\n",
    "**Answer**: \n",
    "<p>&nbsp; &nbsp;1. <b>New York City:</b>\n",
    "<p>&nbsp; &nbsp;&nbsp; &nbsp;a. <b>Monthly Analysis:</b> It can be inferred as during August, Spetember and November there are increase in number of trips for both subscribers and &nbsp; &nbsp;&nbsp; &nbsp; customers.\n",
    "<p>&nbsp; &nbsp;&nbsp; &nbsp;a. <b>Week Days Analysis:</b> Subscribers use the service a lot during the week days, but customers tend to use more on week ends.\n",
    "<p>&nbsp; &nbsp;&nbsp; &nbsp;a. <b>Hour Analysis:</b> Subscribers use the service a lot during the 03:00 to 10:00 hours, but customers tend to use more during 11:00 and 16:00 hours.\n",
    "\n",
    "<p>&nbsp; &nbsp;2. <b>Washington</b>\n",
    "<p>&nbsp; &nbsp;&nbsp; &nbsp;a. <b>Monthly Analysis:</b> It can be inferred as during June, July and August there are increase in number of trips for subscribers.\n",
    "<p>&nbsp; &nbsp;&nbsp; &nbsp;a. <b>Week Days Analysis:</b> Subscribers use the service a lot during the week days, but lower when compared to week days on weekends\n",
    "<p>&nbsp; &nbsp;&nbsp; &nbsp;a. <b>Hour Analysis:</b> Subscribers use the service a lot during the 03:00 to 10:00 hours and 11:00 to 16:00 but less during 17:00 to 20:00 hours.\n",
    "\n",
    "<p>&nbsp; &nbsp;3. <b>Chicago</b>\n",
    "<p>&nbsp; &nbsp;&nbsp; &nbsp;a. <b>Monthly Analysis:</b> It can be inferred as during June, July and August there are increase in number of trips for both subscribers and customers.\n",
    "<p>&nbsp; &nbsp;&nbsp; &nbsp;a. <b>Week Days Analysis:</b> Subscribers use the service a lot during the week days, but customers tend to use more on week ends.\n",
    "<p>&nbsp; &nbsp;&nbsp; &nbsp;a. <b>Hour Analysis:</b> Subscribers use the service a lot during the 03:00 to 10:00 hours, but customers tend to use more during 11:00 and 16:00 hours."
   ]
  },
  {
   "cell_type": "code",
   "execution_count": 215,
   "metadata": {
    "collapsed": true
   },
   "outputs": [],
   "source": [
    "from collections import OrderedDict\n",
    "def monthly_analysis(filename):\n",
    "    with open(filename, 'r') as f_in:\n",
    "        # set up csv reader object\n",
    "        reader = csv.DictReader(f_in)\n",
    "        \n",
    "        # initialize count variables\n",
    "        subscriber_monthly = OrderedDict()\n",
    "        customer_monthly= OrderedDict()\n",
    "        for month in range(1,13):\n",
    "            subscriber_monthly[str(month)] = 0\n",
    "            customer_monthly[str(month)] = 0\n",
    "        # tally up ride types in each month\n",
    "        for row in reader:\n",
    "            if row['user_type'] == 'Subscriber':\n",
    "                subscriber_monthly[row['month']] +=  1\n",
    "            else:\n",
    "                customer_monthly[row['month']] +=  1\n",
    "                \n",
    "        # return tallies as a tuple\n",
    "        return(subscriber_monthly, customer_monthly)"
   ]
  },
  {
   "cell_type": "code",
   "execution_count": 272,
   "metadata": {
    "collapsed": true
   },
   "outputs": [],
   "source": [
    "def weekdays_analysis(filename):\n",
    "    with open(filename, 'r') as f_in:\n",
    "        # set up csv reader object\n",
    "        reader = csv.DictReader(f_in)\n",
    "        days = ['Monday', 'Tuesday', 'Wednesday', 'Thursday', 'Friday', 'Saturday', 'Sunday']\n",
    "        # initialize count variables\n",
    "        subscriber_weekly =  OrderedDict()\n",
    "        customer_weekly= OrderedDict()\n",
    "        for day in days:\n",
    "            subscriber_weekly[day] = 0\n",
    "            customer_weekly[day] = 0\n",
    "            \n",
    "        # tally up ride types in each month\n",
    "        for row in reader:\n",
    "            if row['user_type'] == 'Subscriber':\n",
    "                subscriber_weekly[row['day_of_week']] +=  1\n",
    "            else:\n",
    "                customer_weekly[row['day_of_week']] +=  1\n",
    "                \n",
    "        # return tallies as a tuple\n",
    "        return(subscriber_weekly, customer_weekly)"
   ]
  },
  {
   "cell_type": "code",
   "execution_count": 273,
   "metadata": {
    "collapsed": true
   },
   "outputs": [],
   "source": [
    "def hour_analysis(filename):\n",
    "    with open(filename, 'r') as f_in:\n",
    "        # set up csv reader object\n",
    "        reader = csv.DictReader(f_in)\n",
    "        timings = [\"03-10\",\"11-16\",  \"17-20\", \"21-04\"]\n",
    "        # initialize count variables\n",
    "        subscriber_timings = OrderedDict()\n",
    "        customer_timings=OrderedDict()\n",
    "        for time in timings:\n",
    "            subscriber_timings[time] = 0\n",
    "            customer_timings[time] = 0\n",
    "            \n",
    "        # tally up ride types in each month\n",
    "        for row in reader:\n",
    "            if row['user_type'] == 'Subscriber':\n",
    "                for time in timings:\n",
    "                    up, down = ([int(x) for x in time.split('-')])\n",
    "                    if int(row['hour']) > up and int(row['hour']) < down:\n",
    "                        subscriber_timings[time] +=  1\n",
    "                \n",
    "            else:\n",
    "                for time in timings:\n",
    "                    up, down = ([int(x) for x in time.split('-')])\n",
    "                    if int(row['hour']) > up and int(row['hour']) < down:\n",
    "                        customer_timings[time] +=  1\n",
    "                \n",
    "        # return tallies as a tuple\n",
    "        return(subscriber_timings, customer_timings)"
   ]
  },
  {
   "cell_type": "code",
   "execution_count": 297,
   "metadata": {
    "collapsed": false
   },
   "outputs": [
    {
     "data": {
      "image/png": "[encoded data removed]",
      "text/plain": [
       "<matplotlib.figure.Figure at 0x1cd0171f860>"
      ]
     },
     "metadata": {},
     "output_type": "display_data"
    },
    {
     "data": {
      "image/png": "[encoded data removed]",
      "text/plain": [
       "<matplotlib.figure.Figure at 0x1cd01b503c8>"
      ]
     },
     "metadata": {},
     "output_type": "display_data"
    },
    {
     "data": {
      "image/png": "[encoded data removed]",
      "text/plain": [
       "<matplotlib.figure.Figure at 0x1cd01534198>"
      ]
     },
     "metadata": {},
     "output_type": "display_data"
    },
    {
     "data": {
      "image/png": "[encoded data removed]",
      "text/plain": [
       "<matplotlib.figure.Figure at 0x1cd014c6160>"
      ]
     },
     "metadata": {},
     "output_type": "display_data"
    },
    {
     "data": {
      "image/png": "[encoded data removed]",
      "text/plain": [
       "<matplotlib.figure.Figure at 0x1cd04157710>"
      ]
     },
     "metadata": {},
     "output_type": "display_data"
    },
    {
     "data": {
      "image/png": "[encoded data removed]",
      "text/plain": [
       "<matplotlib.figure.Figure at 0x1cd019b3898>"
      ]
     },
     "metadata": {},
     "output_type": "display_data"
    },
    {
     "data": {
      "image/png": "[encoded data removed]",
      "text/plain": [
       "<matplotlib.figure.Figure at 0x1cd01cf4780>"
      ]
     },
     "metadata": {},
     "output_type": "display_data"
    },
    {
     "data": {
      "image/png": "[encoded data removed]",
      "text/plain": [
       "<matplotlib.figure.Figure at 0x1cd0149ef98>"
      ]
     },
     "metadata": {},
     "output_type": "display_data"
    },
    {
     "data": {
      "image/png": "[encoded data removed]",
      "text/plain": [
       "<matplotlib.figure.Figure at 0x1cd015fee48>"
      ]
     },
     "metadata": {},
     "output_type": "display_data"
    }
   ],
   "source": [
    "## Use this and additional cells to continue to explore the dataset. ##\n",
    "## Once you have performed your exploration, document your findings  ##\n",
    "## in the Markdown cell above.                                       ##\n",
    "\n",
    "city_info = {'Washington': {'in_file': './data/Washington-CapitalBikeshare-2016.csv',\n",
    "                            'out_file': './data/Washington-2016-Summary.csv'},\n",
    "             'Chicago': {'in_file': './data/Chicago-Divvy-2016.csv',\n",
    "                         'out_file': './data/Chicago-2016-Summary.csv'},\n",
    "             'NYC': {'in_file': './data/NYC-CitiBike-2016.csv',\n",
    "                     'out_file': './data/NYC-2016-Summary.csv'}}\n",
    "#Each variable here for labels and methods\n",
    "methods = [ 'monthly_analysis', 'weekdays_analysis','hour_analysis']\n",
    "variables = [['subscriber_monthly', 'customer_monthly'], ['subscriber_weekly', 'customer_weekly'], ['subscriber_timings', 'customer_timings']]\n",
    "ticks =  [\"January\", \"February\", \"March\", \"April\", \"May\", \"June\", \"July\", \"August\", \"September\", \"October\", \"November\", \"December\"] , ['Monday', 'Tuesday', 'Wednesday', 'Thursday', 'Friday', 'Saturday', 'Sunday'],   [\"03-10\",\"11-16\",  \"17-20\", \"20-04\"] \n",
    "\n",
    "# parse through each city, pass data file, get the data from appropriate method\n",
    "# plot the graph for the data\n",
    "for city, data_file in city_info.items():\n",
    "    \n",
    "    # parse thorugh each method names specified above and call the method using eval()\n",
    "    for i in range(0, len(methods)):\n",
    "        index =[]\n",
    "        values =[]\n",
    "        data = eval(methods[i])(data_file['out_file'])\n",
    "        \n",
    "        # Getting the index variable for x axis\n",
    "        index = [x for x in range(len(data[0]))]\n",
    "        \n",
    "        # Getting the values for each attribute\n",
    "        for x in data[0]:\n",
    "            values.append(int(data[0][x]))\n",
    "            \n",
    "        # bar width variable so as to accomodate two bars\n",
    "        bar_width = 0.40\n",
    "        opacity = 0.8\n",
    "        \n",
    "        # plotting the first bar\n",
    "        rects1 = plt.bar([x for x in index], values , bar_width, label = variables[i][0].split('_')[0], alpha=opacity)\n",
    "        \n",
    "        #plotting the second bar same process\n",
    "        index =[]\n",
    "        values =[]\n",
    "        data = eval(methods[i])(data_file['out_file'])\n",
    "        index = [x for x in range(len(data[1]))]\n",
    "\n",
    "        for x in data[1]:\n",
    "            values.append(int(data[1][x]))\n",
    "        bar_width = 0.40\n",
    "        rects2 = plt.bar([x+bar_width for x in index], values , bar_width, label = variables[i][1].split('_')[0], alpha=opacity)\n",
    "        \n",
    "        # Rendering label names and all\n",
    "        plt.title(city+\" \"+methods[i].split(\"_\")[0]+\" \"+methods[i].split(\"_\")[1])\n",
    "        plt.xticks([x+ bar_width / 2 for x in index] , ticks[i])\n",
    "        plt.ylabel('Trips')\n",
    "        plt.legend()\n",
    "        plt.tight_layout()\n",
    "        plt.show()\n"
   ]
  },
  {
   "cell_type": "markdown",
   "metadata": {},
   "source": [
    "<a id='conclusions'></a>\n",
    "## Conclusions\n",
    "\n",
    "Congratulations on completing the project! This is only a sampling of the data analysis process: from generating questions, wrangling the data, and to exploring the data. Normally, at this point in the data analysis process, you might want to draw conclusions about the data by performing a statistical test or fitting the data to a model for making predictions. There are also a lot of potential analyses that could be performed on the data which are not possible with only the data provided. For example, detailed location data has not been investigated. Where are the most commonly used docks? What are the most common routes? As another example, weather has potential to have a large impact on daily ridership. How much is ridership impacted when there is rain or snow? Are subscribers or customers affected more by changes in weather?\n",
    "\n",
    "**Question 7**: Putting the bike share data aside, think of a topic or field of interest where you would like to be able to apply the techniques of data science. What would you like to be able to learn from your chosen subject?\n",
    "\n",
    "**Answer**: With a lot more movies coming up every week, I would like to analyze the movie data to get insights about movies like how much will an actor appearance will impact movie grossings, a director, social media tags, budget of a film and many more constraints.\n",
    "\n",
    "\n"
   ]
  },
  {
   "cell_type": "code",
   "execution_count": 298,
   "metadata": {
    "collapsed": false
   },
   "outputs": [
    {
     "data": {
      "text/plain": [
       "4294967295"
      ]
     },
     "execution_count": 298,
     "metadata": {},
     "output_type": "execute_result"
    }
   ],
   "source": [
    "from subprocess import call\n",
    "call(['python', '-m', 'nbconvert', 'Bike_Share_Analysis.ipynb'])"
   ]
  }
 ],
 "metadata": {
  "anaconda-cloud": {},
  "kernelspec": {
   "display_name": "Python [default]",
   "language": "python",
   "name": "python3"
  },
  "language_info": {
   "codemirror_mode": {
    "name": "ipython",
    "version": 3
   },
   "file_extension": ".py",
   "mimetype": "text/x-python",
   "name": "python",
   "nbconvert_exporter": "python",
   "pygments_lexer": "ipython3",
   "version": "3.5.2"
  }
 },
 "nbformat": 4,
 "nbformat_minor": 1
}
